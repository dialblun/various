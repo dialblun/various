{
 "cells": [
  {
   "cell_type": "markdown",
   "metadata": {},
   "source": [
    "<i>Создаем общую таблицу </i>"
   ]
  },
  {
   "cell_type": "code",
   "execution_count": 1,
   "metadata": {
    "collapsed": false
   },
   "outputs": [],
   "source": [
    "import pandas as pd\n",
    "dateparser1 = lambda x: pd.datetime.strptime(x, '%Y-%m-%d %H:%M:%S')\n",
    "dateparser2 = lambda x: pd.datetime.strptime(x, '%d.%m.%y %H:%M:%S')\n",
    "df1=pd.read_csv('file1', delimiter='|',parse_dates=['t'],date_parser=dateparser1)\n",
    "df2=pd.read_csv('file2', delimiter='\\t',decimal=',', parse_dates=['time'],date_parser=dateparser2)\n",
    "df1.columns=['time', 'af_3483','zr_4352']\n",
    "dfmerged=pd.merge(df1, df2, on = 'time',how='outer')\n",
    "dfmerged.sort_values('time', inplace=True)"
   ]
  },
  {
   "cell_type": "markdown",
   "metadata": {},
   "source": [
    "<i>Записываем в csv </i>"
   ]
  },
  {
   "cell_type": "code",
   "execution_count": 2,
   "metadata": {
    "collapsed": true
   },
   "outputs": [],
   "source": [
    "dfmerged.to_csv('file_merged', sep='\\t', index=False)"
   ]
  },
  {
   "cell_type": "markdown",
   "metadata": {},
   "source": [
    "<i>Аггрегируем помесячно </i>"
   ]
  },
  {
   "cell_type": "code",
   "execution_count": 3,
   "metadata": {
    "collapsed": false
   },
   "outputs": [
    {
     "data": {
      "text/html": [
       "<div>\n",
       "<style>\n",
       "    .dataframe thead tr:only-child th {\n",
       "        text-align: right;\n",
       "    }\n",
       "\n",
       "    .dataframe thead th {\n",
       "        text-align: left;\n",
       "    }\n",
       "\n",
       "    .dataframe tbody tr th {\n",
       "        vertical-align: top;\n",
       "    }\n",
       "</style>\n",
       "<table border=\"1\" class=\"dataframe\">\n",
       "  <thead>\n",
       "    <tr style=\"text-align: right;\">\n",
       "      <th></th>\n",
       "      <th>af_3483</th>\n",
       "      <th>zr_4352</th>\n",
       "      <th>tr_3485</th>\n",
       "      <th>tr_3486</th>\n",
       "      <th>tr_3487</th>\n",
       "      <th>tr_3488</th>\n",
       "    </tr>\n",
       "    <tr>\n",
       "      <th>time</th>\n",
       "      <th></th>\n",
       "      <th></th>\n",
       "      <th></th>\n",
       "      <th></th>\n",
       "      <th></th>\n",
       "      <th></th>\n",
       "    </tr>\n",
       "  </thead>\n",
       "  <tbody>\n",
       "    <tr>\n",
       "      <th>2016-01-31</th>\n",
       "      <td>10.499001</td>\n",
       "      <td>98.478207</td>\n",
       "      <td>11.499683</td>\n",
       "      <td>12.499967</td>\n",
       "      <td>13.500262</td>\n",
       "      <td>14.498428</td>\n",
       "    </tr>\n",
       "    <tr>\n",
       "      <th>2016-02-29</th>\n",
       "      <td>30.456432</td>\n",
       "      <td>98.518101</td>\n",
       "      <td>11.500787</td>\n",
       "      <td>12.500110</td>\n",
       "      <td>13.499296</td>\n",
       "      <td>14.498278</td>\n",
       "    </tr>\n",
       "    <tr>\n",
       "      <th>2016-03-31</th>\n",
       "      <td>10.501813</td>\n",
       "      <td>98.531305</td>\n",
       "      <td>11.498864</td>\n",
       "      <td>12.500351</td>\n",
       "      <td>13.499708</td>\n",
       "      <td>14.497650</td>\n",
       "    </tr>\n",
       "  </tbody>\n",
       "</table>\n",
       "</div>"
      ],
      "text/plain": [
       "              af_3483    zr_4352    tr_3485    tr_3486    tr_3487    tr_3488\n",
       "time                                                                        \n",
       "2016-01-31  10.499001  98.478207  11.499683  12.499967  13.500262  14.498428\n",
       "2016-02-29  30.456432  98.518101  11.500787  12.500110  13.499296  14.498278\n",
       "2016-03-31  10.501813  98.531305  11.498864  12.500351  13.499708  14.497650"
      ]
     },
     "execution_count": 3,
     "metadata": {},
     "output_type": "execute_result"
    }
   ],
   "source": [
    "dfmerged.groupby(pd.Grouper(key='time', freq='M')).mean()"
   ]
  },
  {
   "cell_type": "code",
   "execution_count": 4,
   "metadata": {
    "collapsed": false
   },
   "outputs": [
    {
     "data": {
      "text/html": [
       "<div>\n",
       "<style>\n",
       "    .dataframe thead tr:only-child th {\n",
       "        text-align: right;\n",
       "    }\n",
       "\n",
       "    .dataframe thead th {\n",
       "        text-align: left;\n",
       "    }\n",
       "\n",
       "    .dataframe tbody tr th {\n",
       "        vertical-align: top;\n",
       "    }\n",
       "</style>\n",
       "<table border=\"1\" class=\"dataframe\">\n",
       "  <thead>\n",
       "    <tr style=\"text-align: right;\">\n",
       "      <th></th>\n",
       "      <th>af_3483</th>\n",
       "      <th>zr_4352</th>\n",
       "      <th>tr_3485</th>\n",
       "      <th>tr_3486</th>\n",
       "      <th>tr_3487</th>\n",
       "      <th>tr_3488</th>\n",
       "    </tr>\n",
       "    <tr>\n",
       "      <th>time</th>\n",
       "      <th></th>\n",
       "      <th></th>\n",
       "      <th></th>\n",
       "      <th></th>\n",
       "      <th></th>\n",
       "      <th></th>\n",
       "    </tr>\n",
       "  </thead>\n",
       "  <tbody>\n",
       "    <tr>\n",
       "      <th>2016-01-31</th>\n",
       "      <td>2678400</td>\n",
       "      <td>2678400</td>\n",
       "      <td>1722758</td>\n",
       "      <td>1722758</td>\n",
       "      <td>1722758</td>\n",
       "      <td>1722758</td>\n",
       "    </tr>\n",
       "    <tr>\n",
       "      <th>2016-02-29</th>\n",
       "      <td>2505600</td>\n",
       "      <td>2505600</td>\n",
       "      <td>2498173</td>\n",
       "      <td>2498173</td>\n",
       "      <td>2498173</td>\n",
       "      <td>2498173</td>\n",
       "    </tr>\n",
       "    <tr>\n",
       "      <th>2016-03-31</th>\n",
       "      <td>826000</td>\n",
       "      <td>826000</td>\n",
       "      <td>1761069</td>\n",
       "      <td>1761069</td>\n",
       "      <td>1761069</td>\n",
       "      <td>1761069</td>\n",
       "    </tr>\n",
       "  </tbody>\n",
       "</table>\n",
       "</div>"
      ],
      "text/plain": [
       "            af_3483  zr_4352  tr_3485  tr_3486  tr_3487  tr_3488\n",
       "time                                                            \n",
       "2016-01-31  2678400  2678400  1722758  1722758  1722758  1722758\n",
       "2016-02-29  2505600  2505600  2498173  2498173  2498173  2498173\n",
       "2016-03-31   826000   826000  1761069  1761069  1761069  1761069"
      ]
     },
     "execution_count": 4,
     "metadata": {},
     "output_type": "execute_result"
    }
   ],
   "source": [
    "dfmerged.groupby(pd.Grouper(key='time', freq='M')).count()"
   ]
  }
 ],
 "metadata": {
  "anaconda-cloud": {},
  "kernelspec": {
   "display_name": "Python [conda env:py35]",
   "language": "python",
   "name": "conda-env-py35-py"
  },
  "language_info": {
   "codemirror_mode": {
    "name": "ipython",
    "version": 3
   },
   "file_extension": ".py",
   "mimetype": "text/x-python",
   "name": "python",
   "nbconvert_exporter": "python",
   "pygments_lexer": "ipython3",
   "version": "3.5.2"
  }
 },
 "nbformat": 4,
 "nbformat_minor": 1
}
